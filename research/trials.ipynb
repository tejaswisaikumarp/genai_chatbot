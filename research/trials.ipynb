{
 "cells": [
  {
   "cell_type": "code",
   "execution_count": 1,
   "id": "31a322f6",
   "metadata": {},
   "outputs": [
    {
     "name": "stdout",
     "output_type": "stream",
     "text": [
      "Hello....\n"
     ]
    }
   ],
   "source": [
    "print(\"Hello....\")"
   ]
  },
  {
   "cell_type": "code",
   "execution_count": 2,
   "id": "706929fe",
   "metadata": {},
   "outputs": [
    {
     "data": {
      "text/plain": [
       "'c:\\\\Users\\\\tejas\\\\OneDrive\\\\Desktop\\\\Chatbot_GenAI\\\\genai_chatbot\\\\research'"
      ]
     },
     "execution_count": 2,
     "metadata": {},
     "output_type": "execute_result"
    }
   ],
   "source": [
    "%pwd"
   ]
  },
  {
   "cell_type": "code",
   "execution_count": 3,
   "id": "b5303ac6",
   "metadata": {},
   "outputs": [],
   "source": [
    "from langchain.document_loaders import PyPDFLoader, DirectoryLoader\n",
    "from langchain.text_splitter import RecursiveCharacterTextSplitter"
   ]
  },
  {
   "cell_type": "code",
   "execution_count": 4,
   "id": "22d2085e",
   "metadata": {},
   "outputs": [],
   "source": [
    "import os\n",
    "os.chdir(\"../\")"
   ]
  },
  {
   "cell_type": "code",
   "execution_count": 5,
   "id": "f179c534",
   "metadata": {},
   "outputs": [
    {
     "data": {
      "text/plain": [
       "'c:\\\\Users\\\\tejas\\\\OneDrive\\\\Desktop\\\\Chatbot_GenAI\\\\genai_chatbot'"
      ]
     },
     "execution_count": 5,
     "metadata": {},
     "output_type": "execute_result"
    }
   ],
   "source": [
    "%pwd"
   ]
  },
  {
   "cell_type": "code",
   "execution_count": 6,
   "id": "a371b8c2",
   "metadata": {},
   "outputs": [],
   "source": [
    "#Extract the data from the PDF file\n",
    "def load_pdf_file(data):\n",
    "    loader= DirectoryLoader(data,\n",
    "                            glob=\"*.pdf\",\n",
    "                            loader_cls=PyPDFLoader)\n",
    "\n",
    "    documents=loader.load()\n",
    "\n",
    "    return documents"
   ]
  },
  {
   "cell_type": "code",
   "execution_count": 7,
   "id": "c6a48ca6",
   "metadata": {},
   "outputs": [],
   "source": [
    "data_extraction=load_pdf_file(data='Data/')"
   ]
  },
  {
   "cell_type": "code",
   "execution_count": 8,
   "id": "05141487",
   "metadata": {},
   "outputs": [],
   "source": [
    "#Split the Data into Text Chunks\n",
    "def text_split(extracted_data):\n",
    "    text_splitter=RecursiveCharacterTextSplitter(chunk_size=500, chunk_overlap=20)\n",
    "    text_chunks=text_splitter.split_documents(extracted_data)\n",
    "    return text_chunks"
   ]
  },
  {
   "cell_type": "code",
   "execution_count": 9,
   "id": "27a9a5cd",
   "metadata": {},
   "outputs": [
    {
     "name": "stdout",
     "output_type": "stream",
     "text": [
      "Length of Text Chunks is: 148\n"
     ]
    }
   ],
   "source": [
    "text_chunks=text_split(data_extraction)\n",
    "print(\"Length of Text Chunks is:\", len(text_chunks))"
   ]
  },
  {
   "cell_type": "code",
   "execution_count": 10,
   "id": "586198af",
   "metadata": {},
   "outputs": [],
   "source": [
    "from langchain.embeddings import HuggingFaceEmbeddings"
   ]
  },
  {
   "cell_type": "code",
   "execution_count": 11,
   "id": "1cd4b135",
   "metadata": {},
   "outputs": [],
   "source": [
    "# Download the Embedding model from Hugging Face\n",
    "def huggingface_embedding_model():\n",
    "    embeddings=HuggingFaceEmbeddings(model_name='sentence-transformers/all-MiniLM-L6-v2')\n",
    "    return embeddings"
   ]
  },
  {
   "cell_type": "code",
   "execution_count": 12,
   "id": "bfb88258",
   "metadata": {},
   "outputs": [
    {
     "name": "stderr",
     "output_type": "stream",
     "text": [
      "C:\\Users\\tejas\\AppData\\Local\\Temp\\ipykernel_17460\\3671146463.py:3: LangChainDeprecationWarning: The class `HuggingFaceEmbeddings` was deprecated in LangChain 0.2.2 and will be removed in 1.0. An updated version of the class exists in the :class:`~langchain-huggingface package and should be used instead. To use it run `pip install -U :class:`~langchain-huggingface` and import as `from :class:`~langchain_huggingface import HuggingFaceEmbeddings``.\n",
      "  embeddings=HuggingFaceEmbeddings(model_name='sentence-transformers/all-MiniLM-L6-v2')\n",
      "d:\\Anaconda\\envs\\chatbot_genai\\lib\\site-packages\\tqdm\\auto.py:21: TqdmWarning: IProgress not found. Please update jupyter and ipywidgets. See https://ipywidgets.readthedocs.io/en/stable/user_install.html\n",
      "  from .autonotebook import tqdm as notebook_tqdm\n"
     ]
    }
   ],
   "source": [
    "embeddings=huggingface_embedding_model()"
   ]
  },
  {
   "cell_type": "code",
   "execution_count": 13,
   "id": "9f7f050d",
   "metadata": {},
   "outputs": [
    {
     "data": {
      "text/plain": [
       "[-0.0381503589451313,\n",
       " 0.11391490697860718,\n",
       " -0.08430175483226776,\n",
       " 0.026194293051958084,\n",
       " -0.033716291189193726,\n",
       " -0.04760805144906044,\n",
       " 0.057630300521850586,\n",
       " -0.039994191378355026,\n",
       " 0.05761007219552994,\n",
       " 0.02264462225139141,\n",
       " 0.05278363451361656,\n",
       " -0.05643414705991745,\n",
       " 0.032788313925266266,\n",
       " 0.054703567177057266,\n",
       " -0.007925480604171753,\n",
       " -0.03318250924348831,\n",
       " -0.02648223005235195,\n",
       " -0.014706172049045563,\n",
       " 0.06408940255641937,\n",
       " -0.08025839179754257,\n",
       " -0.00765236746519804,\n",
       " 0.09792744368314743,\n",
       " 0.016366181895136833,\n",
       " -0.069583959877491,\n",
       " 0.029192784801125526,\n",
       " -0.02192474715411663,\n",
       " -0.005268258973956108,\n",
       " 0.08286932110786438,\n",
       " 0.024557508528232574,\n",
       " -0.03930988907814026,\n",
       " -0.032516490668058395,\n",
       " 0.05777914822101593,\n",
       " -0.0773068517446518,\n",
       " -0.04087197780609131,\n",
       " -0.07095035910606384,\n",
       " 0.009683963842689991,\n",
       " -0.02232145331799984,\n",
       " 0.048074182122945786,\n",
       " -0.010110610164701939,\n",
       " 0.0108334394171834,\n",
       " -0.09665190428495407,\n",
       " -0.035508446395397186,\n",
       " -0.027590328827500343,\n",
       " -0.003894374705851078,\n",
       " -0.005170825403183699,\n",
       " -0.006018245592713356,\n",
       " -0.03367837890982628,\n",
       " 0.04171000048518181,\n",
       " -0.016716325655579567,\n",
       " -0.00032173676299862564,\n",
       " -0.033270616084337234,\n",
       " -0.05751189589500427,\n",
       " 0.003321379190310836,\n",
       " 0.03544583544135094,\n",
       " 0.08728089928627014,\n",
       " -0.09005817770957947,\n",
       " 0.04962477460503578,\n",
       " 0.0189533568918705,\n",
       " 0.028447497636079788,\n",
       " 0.1098557859659195,\n",
       " 0.08292742073535919,\n",
       " 0.029950996860861778,\n",
       " -0.061760254204273224,\n",
       " 0.011099852621555328,\n",
       " -0.014935454353690147,\n",
       " -0.03649602830410004,\n",
       " 0.007118715438991785,\n",
       " -0.019403839483857155,\n",
       " -0.01426013931632042,\n",
       " -0.0569116473197937,\n",
       " 0.02063087746500969,\n",
       " 0.06065793335437775,\n",
       " 0.0914275199174881,\n",
       " 0.005591819062829018,\n",
       " -0.06584259122610092,\n",
       " 0.005306357052177191,\n",
       " 0.08122310787439346,\n",
       " -0.07542255520820618,\n",
       " -0.10488609969615936,\n",
       " 0.10247675329446793,\n",
       " -0.0072393957525491714,\n",
       " -0.06182225048542023,\n",
       " -0.013347344473004341,\n",
       " -0.04459735378623009,\n",
       " -0.016474612057209015,\n",
       " -0.007076589856296778,\n",
       " -0.038390807807445526,\n",
       " 0.01458139717578888,\n",
       " 0.06356661021709442,\n",
       " 0.03208358958363533,\n",
       " -0.0042210896499454975,\n",
       " 0.05851544812321663,\n",
       " -0.00440469104796648,\n",
       " 0.026374580338597298,\n",
       " -0.05708508938550949,\n",
       " -0.04906369000673294,\n",
       " 0.003647989360615611,\n",
       " -0.024932557716965675,\n",
       " -0.058519136160612106,\n",
       " 0.10438839346170425,\n",
       " -0.04525141417980194,\n",
       " -0.020110704004764557,\n",
       " 0.07851917296648026,\n",
       " 0.003331349464133382,\n",
       " 0.025679316371679306,\n",
       " 0.0010092138545587659,\n",
       " 0.05507386103272438,\n",
       " 0.027221689000725746,\n",
       " 0.07304776459932327,\n",
       " -0.03442280739545822,\n",
       " -0.044492267072200775,\n",
       " 0.00459962198510766,\n",
       " -0.03502736985683441,\n",
       " -0.012850879691541195,\n",
       " -0.036472029983997345,\n",
       " -0.005281513556838036,\n",
       " -0.040738195180892944,\n",
       " 0.037228189408779144,\n",
       " 0.015669964253902435,\n",
       " 0.06078934669494629,\n",
       " 0.09105826914310455,\n",
       " 0.0738300085067749,\n",
       " -0.06985675543546677,\n",
       " -0.027420204132795334,\n",
       " 0.06364443898200989,\n",
       " -0.028289765119552612,\n",
       " -0.003512387862429023,\n",
       " -3.7734279669517316e-33,\n",
       " 0.04365001618862152,\n",
       " 0.057918425649404526,\n",
       " -0.013774721883237362,\n",
       " 0.005126390606164932,\n",
       " 0.12053419649600983,\n",
       " -0.02587231807410717,\n",
       " -0.03204686939716339,\n",
       " -0.057793989777565,\n",
       " -0.09895386546850204,\n",
       " -0.05406313017010689,\n",
       " -0.024689598008990288,\n",
       " -0.034359462559223175,\n",
       " -0.01864582672715187,\n",
       " -0.012615119107067585,\n",
       " 0.0898662656545639,\n",
       " -0.03679964318871498,\n",
       " -0.06039201468229294,\n",
       " 0.00263165682554245,\n",
       " -0.02377389557659626,\n",
       " 0.051345065236091614,\n",
       " -0.03186101093888283,\n",
       " 0.05255364626646042,\n",
       " -0.046578604727983475,\n",
       " -0.03589771315455437,\n",
       " -0.01749737747013569,\n",
       " 0.03870494291186333,\n",
       " 0.09982910752296448,\n",
       " 0.007293119095265865,\n",
       " -0.01179114542901516,\n",
       " 0.06836540997028351,\n",
       " 0.03156328573822975,\n",
       " -0.03270300477743149,\n",
       " -0.023343250155448914,\n",
       " -0.0723009705543518,\n",
       " 0.0940060168504715,\n",
       " -0.06890328973531723,\n",
       " 0.05133185535669327,\n",
       " -0.052235621958971024,\n",
       " -0.013527313247323036,\n",
       " -0.059159476310014725,\n",
       " 0.09963802993297577,\n",
       " -0.06545225530862808,\n",
       " -0.07566850632429123,\n",
       " 0.07767033576965332,\n",
       " -0.03460211306810379,\n",
       " 0.01970265805721283,\n",
       " -0.01036830060184002,\n",
       " -0.00086220633238554,\n",
       " 0.03954114019870758,\n",
       " 0.027241675183176994,\n",
       " -0.0185946486890316,\n",
       " -0.0002704281941987574,\n",
       " 0.0019196128705516458,\n",
       " -0.03370755538344383,\n",
       " -0.0818471610546112,\n",
       " 0.028567682951688766,\n",
       " 0.037265483289957047,\n",
       " 0.06326903402805328,\n",
       " 0.06800702214241028,\n",
       " -0.0010724178282544017,\n",
       " -0.04342137649655342,\n",
       " -0.01927068457007408,\n",
       " -0.09570438414812088,\n",
       " 0.0203340295702219,\n",
       " -0.04262285679578781,\n",
       " -0.07576307654380798,\n",
       " 0.04275831580162048,\n",
       " -0.0240577831864357,\n",
       " 0.06731172651052475,\n",
       " -0.004965020809322596,\n",
       " -0.0497969314455986,\n",
       " 0.060099415481090546,\n",
       " 0.11425651609897614,\n",
       " 0.04738658294081688,\n",
       " 0.01382942870259285,\n",
       " -0.03138073533773422,\n",
       " 0.06696043908596039,\n",
       " 0.030459292232990265,\n",
       " 0.028158556669950485,\n",
       " 0.0538988821208477,\n",
       " -0.08642000705003738,\n",
       " 0.0019379586447030306,\n",
       " 0.04167192056775093,\n",
       " -0.059767451137304306,\n",
       " 0.006164586171507835,\n",
       " 0.022353215143084526,\n",
       " -0.0470917634665966,\n",
       " -0.03486999124288559,\n",
       " -0.007430563680827618,\n",
       " 0.07156378775835037,\n",
       " -0.03826053440570831,\n",
       " 0.07681059837341309,\n",
       " 0.0007044443627819419,\n",
       " -0.07716437429189682,\n",
       " -0.006861469708383083,\n",
       " 1.7184357223419166e-33,\n",
       " -0.02188078872859478,\n",
       " 0.04726989194750786,\n",
       " 0.01913399063050747,\n",
       " -0.029004130512475967,\n",
       " 0.020285774022340775,\n",
       " 0.011129394173622131,\n",
       " 0.01437394879758358,\n",
       " 0.08514588326215744,\n",
       " -0.04195068031549454,\n",
       " 0.013118872418999672,\n",
       " 0.05904340744018555,\n",
       " 0.010090685449540615,\n",
       " 0.011205916292965412,\n",
       " -0.019502166658639908,\n",
       " 0.04036140441894531,\n",
       " 0.061161912977695465,\n",
       " 0.11149673163890839,\n",
       " -0.026112522929906845,\n",
       " -0.052180029451847076,\n",
       " -0.053024426102638245,\n",
       " -0.04204008728265762,\n",
       " 0.039278220385313034,\n",
       " -0.028285102918744087,\n",
       " -0.012052999809384346,\n",
       " -0.04074013978242874,\n",
       " 0.04763287678360939,\n",
       " 0.019421735778450966,\n",
       " -0.016732847318053246,\n",
       " -0.09467678517103195,\n",
       " 0.06887519359588623,\n",
       " -0.030555056408047676,\n",
       " -0.1741533726453781,\n",
       " 0.02306893840432167,\n",
       " 0.03226914256811142,\n",
       " -0.06504814326763153,\n",
       " 0.06857133656740189,\n",
       " -0.020112283527851105,\n",
       " -0.05223207175731659,\n",
       " 0.008235614746809006,\n",
       " 0.0928378477692604,\n",
       " 0.04801838472485542,\n",
       " 0.021610097959637642,\n",
       " -0.0022500099148601294,\n",
       " 0.046290669590234756,\n",
       " -0.09122700989246368,\n",
       " -0.006862450856715441,\n",
       " -0.022285863757133484,\n",
       " -0.017432063817977905,\n",
       " 0.0035770288668572903,\n",
       " -0.010996025055646896,\n",
       " 0.06795386224985123,\n",
       " 0.04983455315232277,\n",
       " -0.016744233667850494,\n",
       " -0.08104036748409271,\n",
       " 0.09017660468816757,\n",
       " -0.016380181536078453,\n",
       " -0.013863989152014256,\n",
       " -0.1053704246878624,\n",
       " -0.05263274908065796,\n",
       " 0.05598688870668411,\n",
       " 0.050177935510873795,\n",
       " 0.0009026213083416224,\n",
       " -0.009077860042452812,\n",
       " 0.0010379821760579944,\n",
       " 0.0603579506278038,\n",
       " 0.019277196377515793,\n",
       " 0.004102302249521017,\n",
       " 0.0029126452282071114,\n",
       " 0.08321519196033478,\n",
       " -0.04252133145928383,\n",
       " 0.04609694331884384,\n",
       " 0.013026373460888863,\n",
       " -0.11529234051704407,\n",
       " -0.12334420531988144,\n",
       " 0.004063329193741083,\n",
       " -0.05907651409506798,\n",
       " -0.05360217019915581,\n",
       " 0.026287082582712173,\n",
       " -0.05586060509085655,\n",
       " -0.06307482719421387,\n",
       " 0.08760904520750046,\n",
       " -0.019594090059399605,\n",
       " -0.007527152542024851,\n",
       " 0.010613489896059036,\n",
       " 0.052639659494161606,\n",
       " 0.05150197818875313,\n",
       " -0.04560219123959541,\n",
       " 0.045323170721530914,\n",
       " 0.044221941381692886,\n",
       " 0.025538695976138115,\n",
       " 0.015291156247258186,\n",
       " 0.07965485751628876,\n",
       " 0.0116135124117136,\n",
       " 0.014084030874073505,\n",
       " 0.0439101979136467,\n",
       " -1.6703996408296007e-08,\n",
       " -0.038664355874061584,\n",
       " -0.05680735036730766,\n",
       " -0.07819238305091858,\n",
       " -0.01426529698073864,\n",
       " 0.0030964564066380262,\n",
       " 0.0516100749373436,\n",
       " 0.03720279410481453,\n",
       " -0.06938658654689789,\n",
       " 0.01519108284264803,\n",
       " 0.03274478018283844,\n",
       " 0.02094152383506298,\n",
       " 0.07730171829462051,\n",
       " 0.01079147681593895,\n",
       " 0.07208962738513947,\n",
       " -0.0007587746367789805,\n",
       " -0.04275400936603546,\n",
       " -0.0299628097563982,\n",
       " 0.0015491782687604427,\n",
       " -0.007329832762479782,\n",
       " 0.003357603447511792,\n",
       " -0.04067961126565933,\n",
       " -0.02014842815697193,\n",
       " 0.049469076097011566,\n",
       " -0.04360183700919151,\n",
       " -0.051722295582294464,\n",
       " 0.0510031133890152,\n",
       " -0.07679224759340286,\n",
       " 0.028374331071972847,\n",
       " 0.06995696574449539,\n",
       " -0.057745009660720825,\n",
       " -0.06952808052301407,\n",
       " 0.09477381408214569,\n",
       " -0.14381766319274902,\n",
       " -0.002417492214590311,\n",
       " -0.069330133497715,\n",
       " -0.007319614291191101,\n",
       " -0.0046203164383769035,\n",
       " 0.0017079967074096203,\n",
       " -0.05576006695628166,\n",
       " -0.021134037524461746,\n",
       " 0.02103290893137455,\n",
       " 0.018244175240397453,\n",
       " -0.0025970840360969305,\n",
       " 0.09217318147420883,\n",
       " -0.0966474786400795,\n",
       " 0.059207987040281296,\n",
       " -0.01729433424770832,\n",
       " -0.008237442933022976,\n",
       " -0.01551096048206091,\n",
       " -0.14041782915592194,\n",
       " -0.03436656668782234,\n",
       " 0.017308861017227173,\n",
       " 0.044373251497745514,\n",
       " 0.06506507843732834,\n",
       " -0.0008199347066693008,\n",
       " 0.011695930734276772,\n",
       " -0.020005900412797928,\n",
       " 0.047976378351449966,\n",
       " -0.0400397814810276,\n",
       " 0.003775303950533271,\n",
       " 0.09027549624443054,\n",
       " 0.016106026247143745,\n",
       " 0.0356171615421772,\n",
       " -0.02594969980418682]"
      ]
     },
     "execution_count": 13,
     "metadata": {},
     "output_type": "execute_result"
    }
   ],
   "source": [
    "test_embedding_model=embeddings.embed_query(\"this is tejaswi\")\n",
    "test_embedding_model"
   ]
  },
  {
   "cell_type": "code",
   "execution_count": 14,
   "id": "02a491ee",
   "metadata": {},
   "outputs": [
    {
     "name": "stdout",
     "output_type": "stream",
     "text": [
      "The length of the vector is:  384\n"
     ]
    }
   ],
   "source": [
    "print(\"The length of the vector is: \", len(test_embedding_model))"
   ]
  },
  {
   "cell_type": "code",
   "execution_count": 15,
   "id": "12d994f3",
   "metadata": {},
   "outputs": [
    {
     "data": {
      "text/plain": [
       "True"
      ]
     },
     "execution_count": 15,
     "metadata": {},
     "output_type": "execute_result"
    }
   ],
   "source": [
    "from dotenv import load_dotenv\n",
    "load_dotenv()"
   ]
  },
  {
   "cell_type": "code",
   "execution_count": null,
   "id": "de16eea0",
   "metadata": {},
   "outputs": [],
   "source": [
    "# Pinecone_API=os.environ.get(\"PINECONE_API_KEY\")\n",
    "# OpenAI_API=os.environ.get(\"OPENAI_API_KEY\")\n",
    "# print(OpenAI_API)\n",
    "# print(Pinecone_API)"
   ]
  },
  {
   "cell_type": "code",
   "execution_count": 17,
   "id": "79f47360",
   "metadata": {},
   "outputs": [],
   "source": [
    "from pinecone.grpc import PineconeGRPC as Pinecone\n",
    "from pinecone import ServerlessSpec\n",
    "\n",
    "pc = Pinecone(api_key=Pinecone_API)"
   ]
  },
  {
   "cell_type": "code",
   "execution_count": null,
   "id": "08579ec7",
   "metadata": {},
   "outputs": [
    {
     "data": {
      "text/plain": [
       "{\n",
       "    \"name\": \"chatbot-genai\",\n",
       "    \"metric\": \"cosine\",\n",
       "    \"host\": \"chatbot-genai-m1o0ypu.svc.aped-4627-b74a.pinecone.io\",\n",
       "    \"spec\": {\n",
       "        \"serverless\": {\n",
       "            \"cloud\": \"aws\",\n",
       "            \"region\": \"us-east-1\"\n",
       "        }\n",
       "    },\n",
       "    \"status\": {\n",
       "        \"ready\": true,\n",
       "        \"state\": \"Ready\"\n",
       "    },\n",
       "    \"vector_type\": \"dense\",\n",
       "    \"dimension\": 384,\n",
       "    \"deletion_protection\": \"disabled\",\n",
       "    \"tags\": null\n",
       "}"
      ]
     },
     "execution_count": 18,
     "metadata": {},
     "output_type": "execute_result"
    }
   ],
   "source": [
    "# creating an index in the pinecone vector base\n",
    "index_name = \"chatbot\"\n",
    "\n",
    "pc.create_index(name=index_name, \n",
    "                dimension=384, \n",
    "                metric='cosine', \n",
    "                spec=ServerlessSpec(cloud='aws',\n",
    "                                    region='us-east-1'\n",
    "                                    )\n",
    ")"
   ]
  },
  {
   "cell_type": "code",
   "execution_count": null,
   "id": "e551a2f4",
   "metadata": {},
   "outputs": [],
   "source": [
    "# import os\n",
    "# os.environ[\"PineconeAPIkey\"]=Pinecone_API\n",
    "# os.environ[\"OpenaiAPIkey\"]=OpenAI_API"
   ]
  },
  {
   "cell_type": "code",
   "execution_count": 20,
   "id": "8d2a2812",
   "metadata": {},
   "outputs": [],
   "source": [
    "from langchain_pinecone import PineconeVectorStore\n",
    "\n",
    "# Convert each chunk into a vector and store it in the index\n",
    "vectors = PineconeVectorStore.from_documents(\n",
    "    documents=text_chunks,\n",
    "    index_name=index_name,\n",
    "    embedding=embeddings\n",
    ")\n"
   ]
  },
  {
   "cell_type": "code",
   "execution_count": 35,
   "id": "e0a0464e",
   "metadata": {},
   "outputs": [],
   "source": [
    "retrieve_answers=vectors.as_retriever(search_type=\"similarity\", search_kwargs={\"k\":3})"
   ]
  },
  {
   "cell_type": "code",
   "execution_count": 36,
   "id": "6c2edc45",
   "metadata": {},
   "outputs": [
    {
     "data": {
      "text/plain": [
       "[Document(id='6ee94fdd-612b-464c-8084-898fbf4bef95', metadata={'creationdate': '2015-06-16T22:33:28-04:00', 'creator': 'TeX', 'moddate': '2015-06-16T22:33:38-04:00', 'page': 4.0, 'page_label': '5', 'producer': 'pdfTeX-1.40.15', 'source': 'Data\\\\HDA.pdf', 'total_pages': 18.0}, page_content='Electronic health records (EHRs) contain a digitized versi on of a patient’s medical history. It\\nencompasses a full range of data relevant to a patient’s care such as demographics, problems, med-\\nications, physician’s observations, vital signs, medical history, laboratory data, radiology reports,\\nprogress notes, and billing data. Many EHRs go beyond a patie nt’s medical or treatment history and\\nmay contain additional broader perspectives of a patient’s care. An important property of EHRs is'),\n",
       " Document(id='d7e06043-fef6-4a3d-a4ca-074176e5c955', metadata={'creationdate': '2015-06-16T22:33:28-04:00', 'creator': 'TeX', 'moddate': '2015-06-16T22:33:38-04:00', 'page': 4.0, 'page_label': '5', 'producer': 'pdfTeX-1.40.15', 'source': 'Data\\\\HDA.pdf', 'total_pages': 18.0}, page_content='electronic health record streamlines the workﬂow by allowi ng direct access to the updated records in\\nreal time [30]. It can generate a complete record of a patient ’s clinical encounter, and support other\\ncare-related activities such as evidence-based decision s upport, quality management, and outcomes\\nreporting. The storage and retrieval of health-related dat a is more efﬁcient using EHRs. It helps'),\n",
       " Document(id='0903295c-c7b3-4ba8-b514-e5596cb1446a', metadata={'creationdate': '2015-06-16T22:33:28-04:00', 'creator': 'TeX', 'moddate': '2015-06-16T22:33:38-04:00', 'page': 1.0, 'page_label': '2', 'producer': 'pdfTeX-1.40.15', 'source': 'Data\\\\HDA.pdf', 'total_pages': 18.0}, page_content='In 2009, the US government enacted the Health Information T e chnology for Economic and Clinical\\nHealth Act (HITECH) that includes an incentive program (aro und $27 billion) for the adoption and\\nmeaningful use of Electronic Health Records (EHRs).\\nThe recent advances in information technology have led to an increasing ease in the ability to\\ncollect various forms of healthcare data. In this digital wo rld, data becomes an integral part of health-')]"
      ]
     },
     "execution_count": 36,
     "metadata": {},
     "output_type": "execute_result"
    }
   ],
   "source": [
    "answers_generated = retrieve_answers.invoke(\"explain about electronic health records?\")\n",
    "answers_generated"
   ]
  },
  {
   "cell_type": "code",
   "execution_count": 23,
   "id": "a95ff17f",
   "metadata": {},
   "outputs": [
    {
     "data": {
      "text/plain": [
       "<langchain_pinecone.vectorstores.PineconeVectorStore at 0x1bbabb67220>"
      ]
     },
     "execution_count": 23,
     "metadata": {},
     "output_type": "execute_result"
    }
   ],
   "source": [
    "# Load the existing index from pinecone vector store\n",
    "load_index_vectos = PineconeVectorStore.from_existing_index(\n",
    "    index_name=index_name,\n",
    "    embedding=embeddings,\n",
    ")\n",
    "load_index_vectos"
   ]
  },
  {
   "cell_type": "code",
   "execution_count": 24,
   "id": "9d4756e6",
   "metadata": {},
   "outputs": [],
   "source": [
    "retrieval = load_index_vectos.as_retriever(search_type='similarity', search_kwargs={\"k\":3})"
   ]
  },
  {
   "cell_type": "code",
   "execution_count": 25,
   "id": "8f7b4e09",
   "metadata": {},
   "outputs": [],
   "source": [
    "answers = retrieval.invoke(\"explain about electronic health records?\")"
   ]
  },
  {
   "cell_type": "code",
   "execution_count": 26,
   "id": "75d1ee01",
   "metadata": {},
   "outputs": [
    {
     "data": {
      "text/plain": [
       "[]"
      ]
     },
     "execution_count": 26,
     "metadata": {},
     "output_type": "execute_result"
    }
   ],
   "source": [
    "answers"
   ]
  },
  {
   "cell_type": "code",
   "execution_count": 27,
   "id": "a9914b75",
   "metadata": {},
   "outputs": [
    {
     "name": "stderr",
     "output_type": "stream",
     "text": [
      "C:\\Users\\tejas\\AppData\\Local\\Temp\\ipykernel_17460\\2399839734.py:3: LangChainDeprecationWarning: The class `ChatOpenAI` was deprecated in LangChain 0.0.10 and will be removed in 1.0. An updated version of the class exists in the :class:`~langchain-openai package and should be used instead. To use it run `pip install -U :class:`~langchain-openai` and import as `from :class:`~langchain_openai import ChatOpenAI``.\n",
      "  llm = ChatOpenAI(temperature=0.2, max_tokens = 200, model='gpt-3.5-turbo')\n"
     ]
    }
   ],
   "source": [
    "from langchain.chat_models import ChatOpenAI\n",
    "\n",
    "llm = ChatOpenAI(temperature=0.2, max_tokens = 200, model='gpt-3.5-turbo')"
   ]
  },
  {
   "cell_type": "code",
   "execution_count": 28,
   "id": "ac20d25a",
   "metadata": {},
   "outputs": [],
   "source": [
    "from langchain.chains import create_retrieval_chain\n",
    "from langchain.chains.combine_documents import create_stuff_documents_chain\n",
    "from langchain_core.prompts import ChatPromptTemplate\n",
    "\n",
    "system_prompt = (\n",
    "\"You are a helpful AI assistant. You must answer questions only using the information provided in the PDF content. Do not use any external knowledge, assumptions, or personal opinions.\" \n",
    "\n",
    "\"If the answer is not explicitly available in the PDF, say: \"\n",
    "\n",
    "\"I'm sorry, the answer to that question is not available.\"\n",
    "\n",
    "\"Do not attempt to guess, infer, or hallucinate.\"\n",
    "\n",
    "\"Always quote or refer to the relevant part of the document when answering.\"\n",
    "\n",
    "\"\\n\\n\"\n",
    "\n",
    "\"{context}\"\n",
    "\n",
    ")"
   ]
  },
  {
   "cell_type": "code",
   "execution_count": 29,
   "id": "9ee42395",
   "metadata": {},
   "outputs": [],
   "source": [
    "prompt =  ChatPromptTemplate.from_messages(\n",
    "    [\n",
    "        (\"system\", system_prompt),\n",
    "        (\"human\", \"{input}\")\n",
    "    ]\n",
    ")"
   ]
  },
  {
   "cell_type": "code",
   "execution_count": 30,
   "id": "fe0d2831",
   "metadata": {},
   "outputs": [],
   "source": [
    "question_and_answer_chain = create_stuff_documents_chain(llm=llm, prompt=prompt)\n",
    "rag_chain = create_retrieval_chain(retrieval, question_and_answer_chain)"
   ]
  },
  {
   "cell_type": "code",
   "execution_count": 33,
   "id": "7a36b06f",
   "metadata": {},
   "outputs": [],
   "source": [
    "response = rag_chain.invoke(\n",
    "    {\n",
    "        \"input\": \"explain about java?\"\n",
    "    }\n",
    ")"
   ]
  },
  {
   "cell_type": "code",
   "execution_count": 34,
   "id": "8e65b914",
   "metadata": {},
   "outputs": [
    {
     "data": {
      "text/plain": [
       "\"I'm sorry, the answer to that question is not available.\""
      ]
     },
     "execution_count": 34,
     "metadata": {},
     "output_type": "execute_result"
    }
   ],
   "source": [
    "response[\"answer\"]"
   ]
  },
  {
   "cell_type": "code",
   "execution_count": null,
   "id": "5325f90a",
   "metadata": {},
   "outputs": [],
   "source": []
  },
  {
   "cell_type": "code",
   "execution_count": null,
   "id": "749db738",
   "metadata": {},
   "outputs": [],
   "source": []
  }
 ],
 "metadata": {
  "kernelspec": {
   "display_name": "chatbot_genai",
   "language": "python",
   "name": "python3"
  },
  "language_info": {
   "codemirror_mode": {
    "name": "ipython",
    "version": 3
   },
   "file_extension": ".py",
   "mimetype": "text/x-python",
   "name": "python",
   "nbconvert_exporter": "python",
   "pygments_lexer": "ipython3",
   "version": "3.10.18"
  }
 },
 "nbformat": 4,
 "nbformat_minor": 5
}
